{
 "cells": [
  {
   "cell_type": "code",
   "execution_count": null,
   "id": "bc52fe55-5180-454e-b6b5-d65c7351c76a",
   "metadata": {},
   "outputs": [],
   "source": [
    "try:\n",
    "    import datatools_bdh\n",
    "except ModuleNotFoundError:\n",
    "    !pip install git+https://github.com/sfu-bigdata/datatools-bdh\n",
    "\n",
    "from datatools_bdh.sampler import *\n",
    "import matplotlib.pyplot as plt"
   ]
  },
  {
   "cell_type": "markdown",
   "id": "21506e5c-ee6b-4190-b1c1-f9f6306ee52a",
   "metadata": {},
   "source": [
    "## Rejection sampling of constrained domains\n",
    "\n",
    "The constraints here are formed by a lower and upper bounds of the sample interval.\n",
    "See code in `datatools_bdh.sampler.make_sample_bounded` for example usage.\n"
   ]
  },
  {
   "cell_type": "code",
   "execution_count": null,
   "id": "4ecc60c0-e575-4964-8f8a-191b0da5d94a",
   "metadata": {},
   "outputs": [],
   "source": [
    "\n",
    "\n",
    "#print(\", \".join([f\"{x:.2f}\" for x in make_normal_bounded(-.5, .5, nsamples=20)]))\n",
    "lub = .5\n",
    "nsamples = 100\n",
    "#np.random.seed(432)\n",
    "distribution = 'gaussian'\n",
    "if distribution.lower() == 'gaussian':\n",
    "    s = make_normal_bounded(-lub, +lub, nsamples=nsamples,\n",
    "                            oversample=10,\n",
    "                            sigma=lub*.3\n",
    "                           )\n",
    "elif distribution.lower() == 'power':\n",
    "    s = make_power_bounded(-lub, +lub, nsamples=nsamples,\n",
    "                            oversample=10,\n",
    "                            a=.1\n",
    "                           )\n",
    "elif distribution.lower() == 'exponential':\n",
    "    s = make_exponential_bounded(-lub, +lub, nsamples=nsamples,\n",
    "                            oversample=10,\n",
    "                            scale=.1\n",
    "                           )\n",
    "print(f\"Generated {len(s)} samples from a constrained Gaussian distribution.\")\n",
    "plt.hist(s, bins=min(int(nsamples/2), 100));\n",
    "plt.xlim([-lub, +lub]);"
   ]
  },
  {
   "cell_type": "code",
   "execution_count": null,
   "id": "6b8ab8fc-53d5-410b-9fc6-147b299a62bd",
   "metadata": {},
   "outputs": [],
   "source": [
    "# TODO\n",
    "# - inverse transform sampling using inverse CDF\n",
    "# - two-sided mirroring of one-sided, positive distribution domains"
   ]
  },
  {
   "cell_type": "markdown",
   "id": "e89d3b5a-2fe1-485c-9eb0-1546be6c3583",
   "metadata": {},
   "source": [
    "## Inverse transform (ITF) sampling\n",
    "\n",
    "The following code uses the `ITFSampler` class to generate values from a distribution via inverse CDF transform sampling.\n",
    "\n",
    "The simulated sample is shown via a bar chart of its binned histogram. The PDF of the desired distribution shown in the same plot, seems to agree well.\n",
    "\n",
    "### How ITF sampling works\n",
    "This method maps uniformly distributed values through the inverse CDF of the desired distribution.\n",
    "\n",
    "A CDF, or cumulative distribution function, tells us what portion of values in a population is at or below a certain threshold level. For low threshold levels this function is usually close to 0 and for high values the CDF reaches a value of 1, meaning that the entire population of values is below the given level.\n",
    "\n",
    "The inverse CDF gives us level values that are associated with probabilities that range from 0 to 1."
   ]
  },
  {
   "cell_type": "code",
   "execution_count": null,
   "id": "965f31b2-67f7-42fd-bb6b-cae7f13e0af4",
   "metadata": {},
   "outputs": [],
   "source": [
    "from datatools_bdh.sampler import *\n",
    "# works with commit https://github.com/sfu-bigdata/datatools-bdh/commit/8261828fe10abf442fe63e47923325452b0bd99a\n",
    "import matplotlib.pyplot as plt\n",
    "import scipy.stats as sps"
   ]
  },
  {
   "cell_type": "code",
   "execution_count": null,
   "id": "8c2052fe-11f3-4bfc-bfe2-1ed7745eea34",
   "metadata": {},
   "outputs": [],
   "source": [
    "dist = sps.exponpow\n",
    "b = 3\n",
    "mean, var, skew, kurt = dist.stats(b, moments='mvsk')\n",
    "\n",
    "smp = ITFSampler(distribution=dist, b=b)\n",
    "nbins = int(smp.cdf_nsteps/10)\n",
    "\n",
    "ys = smp(smp.x0)"
   ]
  },
  {
   "cell_type": "code",
   "execution_count": null,
   "id": "f906c678-3f5b-4bbc-8429-01e81839c6e4",
   "metadata": {},
   "outputs": [],
   "source": [
    "line_args = dict(lw=5, alpha=0.6)\n",
    "\n",
    "#hist_ori = 'horizontal'\n",
    "hist_ori = 'vertical'\n",
    "fs = [sps.exponpow.cdf(smp.x, smp.b),\n",
    "      ys.values]\n",
    "fs_label = ['CDF', 'inverse CDF']\n",
    "ypdf = sps.exponpow.pdf(smp.x, smp.b)"
   ]
  },
  {
   "cell_type": "code",
   "execution_count": null,
   "id": "4c15b503-e0a9-4ba8-b716-f084a276c8c5",
   "metadata": {},
   "outputs": [],
   "source": [
    "if hist_ori == 'vertical':\n",
    "    fs.append(ypdf)\n",
    "    fs_label.append(\"PDF\")"
   ]
  },
  {
   "cell_type": "code",
   "execution_count": null,
   "id": "d87cc92d-86bd-49d1-90de-51c46b4ebfff",
   "metadata": {},
   "outputs": [],
   "source": [
    "fig, ax = plt.subplots(1, 1)\n",
    "ax.plot(smp.x0, np.vstack(fs).T,\n",
    "       '-', **line_args, label=fs_label)\n",
    "if hist_ori == 'horizontal':\n",
    "    ax.plot(ypdf,\n",
    "            smp.x0, \n",
    "            '-', **line_args, label='flipped PDF')\n",
    "ax.set_title('power exponential')\n",
    "if True:\n",
    "    plt.hist([#exponpow.cdf(x, b),\n",
    "              ys],\n",
    "             bins=nbins, density=True,\n",
    "             color='peachpuff',\n",
    "             orientation=hist_ori);\n",
    "plt.legend();"
   ]
  },
  {
   "cell_type": "code",
   "execution_count": null,
   "id": "8cc35cd5-072b-4726-99b2-93322d23194f",
   "metadata": {},
   "outputs": [],
   "source": [
    "# further examples:\n",
    "\n",
    "# distribute points in [0, 3] according to density of normal with sigma=1.5\n",
    "# generate uniform y values using linspace\n"
   ]
  }
 ],
 "metadata": {
  "kernelspec": {
   "display_name": "Python 3",
   "language": "python",
   "name": "python3"
  },
  "language_info": {
   "codemirror_mode": {
    "name": "ipython",
    "version": 3
   },
   "file_extension": ".py",
   "mimetype": "text/x-python",
   "name": "python",
   "nbconvert_exporter": "python",
   "pygments_lexer": "ipython3",
   "version": "3.8.8"
  }
 },
 "nbformat": 4,
 "nbformat_minor": 5
}
