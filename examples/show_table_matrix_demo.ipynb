{
  "cells": [
    {
      "cell_type": "code",
      "execution_count": null,
      "metadata": {
        "id": "TY9cIsuUyfY3"
      },
      "outputs": [],
      "source": [
        "try:\n",
        "    import datatools_bdh\n",
        "except ModuleNotFoundError:\n",
        "    !pip install git+https://github.com/sfu-bigdata/datatools-bdh\n",
        "from datatools_bdh.plot import *"
      ]
    },
    {
      "cell_type": "code",
      "execution_count": null,
      "metadata": {
        "colab": {
          "base_uri": "https://localhost:8080/",
          "height": 81
        },
        "id": "Uy_PnzEMuYJP",
        "outputId": "e423c3a3-beaf-4f06-d042-3cddb694e1da"
      },
      "outputs": [],
      "source": [
        "cmap = mpl.cm.get_cmap('Paired', 12)\n",
        "cmap_df = make_cmap_df(cmap, hex=True)\n",
        "hexcol = cmap_df[['color']]\n",
        "display_color_column(hexcol.T)"
      ]
    },
    {
      "cell_type": "markdown",
      "metadata": {
        "id": "A3szeItgG7d_"
      },
      "source": [
        "## Create two tables and a matrix of linkage among their rows"
      ]
    },
    {
      "cell_type": "code",
      "execution_count": null,
      "metadata": {
        "id": "Obq05IbrwHOE"
      },
      "outputs": [],
      "source": [
        "# Prepare table and row connections\n",
        "columns = np.array(('A', 'B', 'C'))\n",
        "rows = np.array([\"x\", \"y\"])\n",
        "# determine color map to use for highlighting below\n",
        "cmap_colors = hexcol.iloc[6::2,0].values\n",
        "cells, colors = make_cells(columns, rows)\n",
        "cells2, colors2 = make_cells(rows, columns)\n",
        "\n",
        "# make link matrix and set background colors on table cells \n",
        "link_matrix = np.full((cells.shape[0], cells2.shape[0]), False)\n",
        "colors[0,:] = cmap_colors[0] # apply to whole row\n",
        "colors2[0,0] = cmap_colors[0] # apply to first column\n",
        "link_matrix[0,0] = True\n",
        "colors[1,:] = cmap_colors[1]\n",
        "colors2[1,0] = cmap_colors[1]\n",
        "link_matrix[1,1] = True"
      ]
    },
    {
      "cell_type": "markdown",
      "metadata": {},
      "source": [
        "## Display the two tables with correspondence"
      ]
    },
    {
      "cell_type": "code",
      "execution_count": null,
      "metadata": {
        "colab": {
          "base_uri": "https://localhost:8080/",
          "height": 683
        },
        "id": "kHMqjzLRF0R8",
        "outputId": "3bdf8490-55ad-4019-f6e0-03b5caf70b37"
      },
      "outputs": [],
      "source": [
        "show_table_matrix(\n",
        "    cells, colors,\n",
        "    cells2, colors2,\n",
        "    link_matrix=link_matrix\n",
        ")"
      ]
    }
  ],
  "metadata": {
    "colab": {
      "collapsed_sections": [],
      "name": "join-matrix-plot.ipynb",
      "provenance": []
    },
    "kernelspec": {
      "display_name": "Python 3",
      "name": "python3"
    },
    "language_info": {
      "codemirror_mode": {
        "name": "ipython",
        "version": 3
      },
      "file_extension": ".py",
      "mimetype": "text/x-python",
      "name": "python",
      "nbconvert_exporter": "python",
      "pygments_lexer": "ipython3",
      "version": "3.8.8"
    }
  },
  "nbformat": 4,
  "nbformat_minor": 0
}
